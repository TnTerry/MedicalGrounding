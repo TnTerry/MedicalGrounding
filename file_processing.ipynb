{
 "cells": [
  {
   "cell_type": "code",
   "execution_count": 1,
   "metadata": {},
   "outputs": [],
   "source": [
    "import json\n",
    "import os\n",
    "\n",
    "# Load JSON data from file\n",
    "with open('exp_annotation.json', 'r') as file:\n",
    "    data = json.load(file)"
   ]
  },
  {
   "cell_type": "code",
   "execution_count": 2,
   "metadata": {},
   "outputs": [
    {
     "name": "stdout",
     "output_type": "stream",
     "text": [
      "Updated data and label mapping have been saved.\n"
     ]
    }
   ],
   "source": [
    "# Creating a unique class_id for each label\n",
    "label_to_id = {}\n",
    "class_id = 0\n",
    "for item in data.values():\n",
    "    label = item['label']\n",
    "    if label not in label_to_id:\n",
    "        label_to_id[label] = class_id\n",
    "        class_id += 1\n",
    "\n",
    "# Updating the original data with class_id\n",
    "updated_data = {}\n",
    "for key, value in data.items():\n",
    "    updated_data[key] = value\n",
    "    updated_data[key]['label'] = label_to_id[value['label']]\n",
    "\n",
    "# Saving the updated data to a new JSON file\n",
    "with open('updated_image_classification_data.json', 'w') as file:\n",
    "    json.dump(updated_data, file, indent=4)\n",
    "\n",
    "# Saving the label to class_id mapping to another file\n",
    "with open('label_class_id_mapping.json', 'w') as file:\n",
    "    json.dump(label_to_id, file, indent=4)\n",
    "\n",
    "print(\"Updated data and label mapping have been saved.\")\n"
   ]
  },
  {
   "cell_type": "code",
   "execution_count": null,
   "metadata": {},
   "outputs": [],
   "source": []
  },
  {
   "cell_type": "code",
   "execution_count": 2,
   "metadata": {},
   "outputs": [
    {
     "name": "stdout",
     "output_type": "stream",
     "text": [
      "Updated JSON data saved.\n"
     ]
    }
   ],
   "source": [
    "import json\n",
    "\n",
    "# Path to your JSON file\n",
    "json_file_path = 'Datasets/Action_Classification/exp_annotation.json'\n",
    "\n",
    "# Load the JSON data\n",
    "with open(json_file_path, 'r') as file:\n",
    "    data = json.load(file)\n",
    "\n",
    "# Modify the image_path for each item\n",
    "for item in data.values():\n",
    "    # Check if the image_path starts with the specific prefix and then remove it\n",
    "    if item['image_path'].startswith('mpii_human_pose_v1/'):\n",
    "        item['image_path'] = item['image_path'][len('mpii_human_pose_v1/'):]\n",
    "\n",
    "# Save the modified data back to the JSON file or handle otherwise\n",
    "with open(json_file_path, 'w') as file:\n",
    "    json.dump(data, file, indent=4)\n",
    "\n",
    "print(\"Updated JSON data saved.\")\n"
   ]
  },
  {
   "cell_type": "code",
   "execution_count": null,
   "metadata": {},
   "outputs": [],
   "source": []
  },
  {
   "cell_type": "code",
   "execution_count": 3,
   "metadata": {},
   "outputs": [
    {
     "name": "stdout",
     "output_type": "stream",
     "text": [
      "Transformed JSON data saved.\n"
     ]
    }
   ],
   "source": [
    "import json\n",
    "\n",
    "# Path to your JSON file\n",
    "json_file_path = 'Datasets/Object_Classification/exp_annotation.json'\n",
    "\n",
    "# Load the JSON data\n",
    "with open(json_file_path, 'r') as file:\n",
    "    data = json.load(file)\n",
    "    \n",
    "# Initialize an empty dictionary to hold the transformed data\n",
    "transformed_data = {}\n",
    "\n",
    "# Transform each item in the original data\n",
    "for key, value in data.items():\n",
    "    new_item = {\n",
    "        \"iid\": str(value[\"question_id\"]),\n",
    "        \"exp\": value[\"descriptions\"],\n",
    "        \"ans\": str(value[\"label\"]),  # Assuming you want the label as a string similar to \"bicycling, BMX\"\n",
    "        \"visual_exp\": value[\"visual_exp\"],\n",
    "        \"image_path\": f\"images/{key}\",\n",
    "        \"class_id\": value[\"label\"]\n",
    "    }\n",
    "    transformed_data[key] = new_item\n",
    "\n",
    "# Optionally, save the transformed data to a new JSON file\n",
    "output_file_path = 'new_file.json'\n",
    "with open(output_file_path, 'w') as file:\n",
    "    json.dump(transformed_data, file, indent=4)\n",
    "\n",
    "print(\"Transformed JSON data saved.\")\n"
   ]
  },
  {
   "cell_type": "code",
   "execution_count": null,
   "metadata": {},
   "outputs": [],
   "source": []
  }
 ],
 "metadata": {
  "kernelspec": {
   "display_name": "multimodalxs",
   "language": "python",
   "name": "python3"
  },
  "language_info": {
   "codemirror_mode": {
    "name": "ipython",
    "version": 3
   },
   "file_extension": ".py",
   "mimetype": "text/x-python",
   "name": "python",
   "nbconvert_exporter": "python",
   "pygments_lexer": "ipython3",
   "version": "3.9.19"
  }
 },
 "nbformat": 4,
 "nbformat_minor": 2
}
